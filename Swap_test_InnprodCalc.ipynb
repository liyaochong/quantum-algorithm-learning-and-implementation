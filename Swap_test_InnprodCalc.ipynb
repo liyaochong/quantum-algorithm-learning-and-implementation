{
 "cells": [
  {
   "cell_type": "markdown",
   "metadata": {},
   "source": [
    "利用Swap_test算法计算两个向量之间内积的一个简单实例<p>$a=\\left[\\begin{array}{llll}{\\frac{\\sqrt{3}}{2}} & {\\frac{1}{2}} & {0} & {0}\\end{array}\\right]^{T} \\quad b=\\left[\\begin{array}{llll}{\\frac{1}{2}} & {\\frac{1}{2}} & {\\frac{1}{2}} & {\\frac{1}{2}}\\end{array}\\right]^{T}$<p>$|a\\rangle=\\frac{\\sqrt{3}}{2}|00\\rangle+\\frac{1}{2}|01\\rangle+ 0|10\\rangle+ 0|11\\rangle$<p>$|b\\rangle=\\frac{1}{2}|00\\rangle+\\frac{1}{2}|01\\rangle+\\frac{1}{2}|10\\rangle+\\frac{1}{2}|11\\rangle$<p>$\\left|\\psi_{0}\\right\\rangle=|0, a, b\\rangle$<p>$\\left|\\psi_{1}\\right\\rangle=\\left(H \\otimes I^{\\otimes n} \\otimes I^{\\otimes n}\\right)\\left|\\psi_{0}\\right\\rangle=\\frac{1}{\\sqrt{2}}(|0, a, b\\rangle+|1, a, b\\rangle)$<p>$\\left|\\psi_{2}\\right\\rangle=\\frac{1}{\\sqrt{2}}(|0, a, b\\rangle+|1, b, a\\rangle)$<p>$\\left|\\psi_{3}\\right\\rangle=\\frac{1}{2}|0\\rangle(|a, b\\rangle+|b, a\\rangle)+\\frac{1}{2}|1\\rangle(|a, b\\rangle-|b, a\\rangle)$<p>$\\begin{aligned} P(|0\\rangle) &=\\left|\\frac{1}{2}\\langle 0 | 0\\rangle(|a, b\\rangle+|b, a\\rangle)+\\frac{1}{2}\\langle 0 | 1\\rangle(|a, b\\rangle-|b, a\\rangle)\\right|^{2} \\\\ &=\\frac{1}{4}|(|a, b\\rangle+|b, a\\rangle)|^{2} \\\\ &=\\frac{1}{4}(\\langle b | b\\rangle\\langle a | a\\rangle+\\langle b | a\\rangle\\langle a | b\\rangle+\\langle a | b\\rangle\\langle b | a\\rangle+\\langle a | a\\rangle\\langle b | b\\rangle) \\\\ &=\\frac{1}{2}+\\frac{1}{2}|\\langle a | b\\rangle|^{2} \\end{aligned}$"
   ]
  },
  {
   "cell_type": "code",
   "execution_count": 1,
   "metadata": {},
   "outputs": [],
   "source": [
    "# 导入相应的运算库\n",
    "import numpy as np\n",
    "from qiskit import BasicAer, execute\n",
    "from qiskit import QuantumCircuit, ClassicalRegister, QuantumRegister, execute\n",
    "from qiskit.tools.visualization import circuit_drawer"
   ]
  },
  {
   "cell_type": "code",
   "execution_count": 2,
   "metadata": {},
   "outputs": [],
   "source": [
    "desired_vector1 = [np.sqrt(3)/2, 1/2, 0, 0]\n",
    "desired_vector2 = [1/2, 1/2, 1/2, 1/2]"
   ]
  },
  {
   "cell_type": "code",
   "execution_count": 3,
   "metadata": {},
   "outputs": [
    {
     "data": {
      "text/plain": [
       "<qiskit.extensions.quantum_initializer._initializer.InitializeGate at 0x1e350a129b0>"
      ]
     },
     "execution_count": 3,
     "metadata": {},
     "output_type": "execute_result"
    }
   ],
   "source": [
    "q0 = QuantumRegister(1,'q0')\n",
    "c0 = ClassicalRegister(1,'c0')\n",
    "\n",
    "q1 = QuantumRegister(2,'q1')\n",
    "c1 = ClassicalRegister(2,'c1')\n",
    "\n",
    "q2 = QuantumRegister(2,'q2')\n",
    "c2 = ClassicalRegister(2,'c2')\n",
    "\n",
    "Circuit = QuantumCircuit()\n",
    "Circuit.add_register(q0,c0)\n",
    "Circuit.add_register(q1,c1)\n",
    "Circuit.add_register(q2,c2)\n",
    "\n",
    "Circuit.initialize(desired_vector1, [q1[0],q1[1]])\n",
    "Circuit.initialize(desired_vector2, [q2[0],q2[1]])"
   ]
  },
  {
   "cell_type": "code",
   "execution_count": 4,
   "metadata": {},
   "outputs": [
    {
     "data": {
      "text/plain": [
       "<qiskit.extensions.standard.h.HGate at 0x1e350a1e320>"
      ]
     },
     "execution_count": 4,
     "metadata": {},
     "output_type": "execute_result"
    }
   ],
   "source": [
    "Circuit.h(q0[0])\n",
    "Circuit.ccx(q0[0],q1[1],q2[1])\n",
    "Circuit.ccx(q0[0],q2[1],q1[1])\n",
    "Circuit.ccx(q0[0],q1[1],q2[1])\n",
    "Circuit.ccx(q0[0],q1[0],q2[0])\n",
    "Circuit.ccx(q0[0],q2[0],q1[0])\n",
    "Circuit.ccx(q0[0],q1[0],q2[0])\n",
    "Circuit.h(q0[0])"
   ]
  },
  {
   "cell_type": "code",
   "execution_count": 5,
   "metadata": {},
   "outputs": [
    {
     "data": {
      "image/png": "[encoded data removed]",
      "text/plain": [
       "<Figure size 842.8x620.06 with 1 Axes>"
      ]
     },
     "execution_count": 5,
     "metadata": {},
     "output_type": "execute_result"
    }
   ],
   "source": [
    "Circuit.draw(output='mpl')"
   ]
  },
  {
   "cell_type": "code",
   "execution_count": 6,
   "metadata": {},
   "outputs": [
    {
     "data": {
      "text/plain": [
       "<qiskit.circuit.instructionset.InstructionSet at 0x1e351226748>"
      ]
     },
     "execution_count": 6,
     "metadata": {},
     "output_type": "execute_result"
    }
   ],
   "source": [
    "# 对寄存器q0进行测量\n",
    "Circuit.measure(q0,c0)"
   ]
  },
  {
   "cell_type": "code",
   "execution_count": 7,
   "metadata": {},
   "outputs": [
    {
     "data": {
      "text/plain": [
       "{'00 00 1': 274, '00 00 0': 750}"
      ]
     },
     "execution_count": 7,
     "metadata": {},
     "output_type": "execute_result"
    }
   ],
   "source": [
    "# 测量次数设置为1024次\n",
    "backend = BasicAer.get_backend('qasm_simulator')\n",
    "job = execute(Circuit, backend,shots=1024)\n",
    "job.result().get_counts(Circuit)"
   ]
  },
  {
   "cell_type": "code",
   "execution_count": 8,
   "metadata": {},
   "outputs": [
    {
     "name": "stdout",
     "output_type": "stream",
     "text": [
      "750.8512516844081\n"
     ]
    }
   ],
   "source": [
    "Inner_product = np.sum(np.multiply(np.array(desired_vector1),np.array(desired_vector2)))\n",
    "Overlap = Inner_product**2\n",
    "P_0 = 1/2 + Overlap/2\n",
    "print(P_0*1024)"
   ]
  },
  {
   "cell_type": "code",
   "execution_count": null,
   "metadata": {},
   "outputs": [],
   "source": []
  }
 ],
 "metadata": {
  "kernelspec": {
   "display_name": "Python 3",
   "language": "python",
   "name": "python3"
  },
  "language_info": {
   "codemirror_mode": {
    "name": "ipython",
    "version": 3
   },
   "file_extension": ".py",
   "mimetype": "text/x-python",
   "name": "python",
   "nbconvert_exporter": "python",
   "pygments_lexer": "ipython3",
   "version": "3.6.6"
  },
  "toc": {
   "base_numbering": 1,
   "nav_menu": {},
   "number_sections": true,
   "sideBar": true,
   "skip_h1_title": false,
   "title_cell": "Table of Contents",
   "title_sidebar": "Contents",
   "toc_cell": false,
   "toc_position": {},
   "toc_section_display": true,
   "toc_window_display": false
  }
 },
 "nbformat": 4,
 "nbformat_minor": 2
}
