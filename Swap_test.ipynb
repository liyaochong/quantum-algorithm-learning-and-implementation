{
 "cells": [
  {
   "cell_type": "markdown",
   "metadata": {},
   "source": [
    "利用Swap_test算法进行向量之间距离计算的一个简单实例<p>$a=\\left[\\begin{array}{ll}{6} & {8}\\end{array}\\right]^{T} \\quad b=\\left[\\begin{array}{ll}{1} & {0}\\end{array}\\right]^{T}$<p>$Z=|a|^{2}+|b|^{2}=101$<p>$|a\\rangle=\\frac{6}{10}|0\\rangle+\\frac{8}{10}|1\\rangle \\qquad|b\\rangle= 1|0\\rangle+ 0|1\\rangle$<p>变量desired_vector1表示的是量子态$|\\psi\\rangle=\\frac{1}{\\sqrt{2}}(|0, a\\rangle+|1, b\\rangle)$<p>变量desired_vector2表示的是量子态$|\\phi\\rangle=\\frac{1}{\\sqrt{Z}}(|a||0\\rangle-|b \\| 1\\rangle)$<p>$\\langle\\phi | \\psi\\rangle=\\frac{1}{\\sqrt{2 Z}}(|a||a\\rangle-|b||b\\rangle)$<p>\n",
    "$|\\langle\\phi | \\psi\\rangle|^{2}=\\frac{1}{2 Z}|a-b|^{2}$<p>$P(|0\\rangle)=\\frac{1}{2}+\\frac{1}{2}|\\langle\\phi | \\psi\\rangle|^{2}$<p>\n",
    "$P(|1\\rangle)=\\frac{1}{2}-\\frac{1}{2}|\\langle\\phi | \\psi\\rangle|^{2}$"
   ]
  },
  {
   "cell_type": "code",
   "execution_count": 1,
   "metadata": {},
   "outputs": [],
   "source": [
    "# 导入相应的运算库\n",
    "import numpy as np\n",
    "from qiskit import BasicAer, execute\n",
    "from qiskit import QuantumCircuit, ClassicalRegister, QuantumRegister, execute\n",
    "from qiskit.tools.visualization import circuit_drawer"
   ]
  },
  {
   "cell_type": "code",
   "execution_count": 2,
   "metadata": {},
   "outputs": [],
   "source": [
    "desired_vector1 = [6/np.sqrt(200), 8/np.sqrt(200), 1/np.sqrt(2), 0]\n",
    "desired_vector2 = [10/np.sqrt(101), -1/np.sqrt(101)]"
   ]
  },
  {
   "cell_type": "code",
   "execution_count": 3,
   "metadata": {},
   "outputs": [
    {
     "data": {
      "text/plain": [
       "<qiskit.extensions.quantum_initializer._initializer.InitializeGate at 0x2c4e558ac88>"
      ]
     },
     "execution_count": 3,
     "metadata": {},
     "output_type": "execute_result"
    }
   ],
   "source": [
    "q0 = QuantumRegister(1,'q0')\n",
    "c0 = ClassicalRegister(1,'c0')\n",
    "\n",
    "q1 = QuantumRegister(2,'q1')\n",
    "c1 = ClassicalRegister(2,'c1')\n",
    "\n",
    "q2 = QuantumRegister(1,'q2')\n",
    "c2 = ClassicalRegister(1,'c2')\n",
    "\n",
    "Circuit = QuantumCircuit()\n",
    "Circuit.add_register(q0,c0)\n",
    "Circuit.add_register(q1,c1)\n",
    "Circuit.add_register(q2,c2)\n",
    "\n",
    "Circuit.initialize(desired_vector1, [q1[0],q1[1]])\n",
    "Circuit.initialize(desired_vector2, [q2[0]])"
   ]
  },
  {
   "cell_type": "code",
   "execution_count": 4,
   "metadata": {},
   "outputs": [
    {
     "data": {
      "text/plain": [
       "<qiskit.extensions.standard.h.HGate at 0x2c4e558a6a0>"
      ]
     },
     "execution_count": 4,
     "metadata": {},
     "output_type": "execute_result"
    }
   ],
   "source": [
    "Circuit.h(q0[0])\n",
    "Circuit.ccx(q0[0],q1[1],q2[0])\n",
    "Circuit.ccx(q0[0],q2[0],q1[1])\n",
    "Circuit.ccx(q0[0],q1[1],q2[0])\n",
    "Circuit.h(q0[0])"
   ]
  },
  {
   "cell_type": "code",
   "execution_count": 5,
   "metadata": {},
   "outputs": [
    {
     "data": {
      "image/png": "[encoded data removed]",
      "text/plain": [
       "<Figure size 722.4x499.66 with 1 Axes>"
      ]
     },
     "execution_count": 5,
     "metadata": {},
     "output_type": "execute_result"
    }
   ],
   "source": [
    "Circuit.draw(output='mpl')"
   ]
  },
  {
   "cell_type": "code",
   "execution_count": 6,
   "metadata": {},
   "outputs": [
    {
     "data": {
      "text/plain": [
       "<qiskit.circuit.instructionset.InstructionSet at 0x2c4e5b73390>"
      ]
     },
     "execution_count": 6,
     "metadata": {},
     "output_type": "execute_result"
    }
   ],
   "source": [
    "# 对寄存器q0进行测量\n",
    "Circuit.measure(q0,c0)"
   ]
  },
  {
   "cell_type": "code",
   "execution_count": 7,
   "metadata": {},
   "outputs": [
    {
     "data": {
      "text/plain": [
       "{'0 00 1': 287, '0 00 0': 737}"
      ]
     },
     "execution_count": 7,
     "metadata": {},
     "output_type": "execute_result"
    }
   ],
   "source": [
    "# 测量次数设置为10000次\n",
    "backend = BasicAer.get_backend('qasm_simulator')\n",
    "job = execute(Circuit, backend,shots=1024)\n",
    "job.result().get_counts(Circuit)"
   ]
  },
  {
   "cell_type": "code",
   "execution_count": 8,
   "metadata": {},
   "outputs": [
    {
     "name": "stdout",
     "output_type": "stream",
     "text": [
      "进行测量之后，辅助量子比特为0态的次数是 286.41584158415844\n",
      "进行测量之后，辅助量子比特为1态的次数是 737.5841584158416\n"
     ]
    }
   ],
   "source": [
    "P_0 = 0.5-89/202*0.5\n",
    "P_1 = 0.5+89/202*0.5\n",
    "Times_0 = P_0*1024\n",
    "Times_1 = P_1*1024\n",
    "print('进行测量之后，辅助量子比特为0态的次数是',Times_0)\n",
    "print('进行测量之后，辅助量子比特为1态的次数是',Times_1)"
   ]
  }
 ],
 "metadata": {
  "kernelspec": {
   "display_name": "Python 3",
   "language": "python",
   "name": "python3"
  },
  "language_info": {
   "codemirror_mode": {
    "name": "ipython",
    "version": 3
   },
   "file_extension": ".py",
   "mimetype": "text/x-python",
   "name": "python",
   "nbconvert_exporter": "python",
   "pygments_lexer": "ipython3",
   "version": "3.6.6"
  },
  "toc": {
   "base_numbering": 1,
   "nav_menu": {},
   "number_sections": true,
   "sideBar": true,
   "skip_h1_title": false,
   "title_cell": "Table of Contents",
   "title_sidebar": "Contents",
   "toc_cell": false,
   "toc_position": {
    "height": "calc(100% - 180px)",
    "left": "10px",
    "top": "150px",
    "width": "219.429px"
   },
   "toc_section_display": true,
   "toc_window_display": false
  }
 },
 "nbformat": 4,
 "nbformat_minor": 2
}
